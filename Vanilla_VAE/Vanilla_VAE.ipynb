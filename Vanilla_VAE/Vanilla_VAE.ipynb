{
 "cells": [
  {
   "cell_type": "code",
   "execution_count": 0,
   "metadata": {
    "colab": {},
    "colab_type": "code",
    "id": "MCsneF2MaoaV"
   },
   "outputs": [],
   "source": [
    "from torch import nn, optim\n",
    "from torch.nn import functional as F\n",
    "import torch\n",
    "from torchvision import datasets, transforms\n",
    "from torchvision.utils import save_image\n",
    "\n",
    "\n",
    "class VAE_Vanilla(nn.Module):\n",
    "  \n",
    "  \"\"\"\n",
    "  Define the VAE_Vanilla class\n",
    "  \n",
    "  \"\"\"\n",
    "\n",
    "    def __init__(self,input_size = 784, mid_layer_size = 400, latent_size = 30,output_size=784):\n",
    "        super().__init__()\n",
    "        self.input_size = input_size\n",
    "        self.fc1 = nn.Linear(input_size,mid_layer_size)  #input observed data\n",
    "        self.mu = nn.Linear(mid_layer_size,latent_size)  # mean\n",
    "        self.logvar = nn.Linear(mid_layer_size, latent_size) # variance\n",
    "        self.fc2 = nn.Linear(latent_size, mid_layer_size) # sampled latent variables\n",
    "        self.fc3 = nn.Linear(mid_layer_size,output_size) # reconstruction\n",
    "\n",
    "    \n",
    "    def encoder(self,X):\n",
    "        o1 = F.relu(self.fc1(X))\n",
    "        return self.mu(o1), self.logvar(o1)   # approximate the mean and logarisim of variance\n",
    "\n",
    "    def reparameterize(self, mu,logvar):\n",
    "        \n",
    "        std = torch.exp(0.5*logvar)\n",
    "        epsilon = torch.randn_like(std)\n",
    "        return mu + epsilon * std\n",
    "\n",
    "    def decoder(self,sampled_latent_z):\n",
    "        o2 = F.relu(self.fc2(sampled_latent_z))\n",
    "        return torch.sigmoid(self.fc3(o2))\n",
    "\n",
    "    def forward(self, X):\n",
    "        mu, logvar = self.encoder(X.view(-1,self.input_size)) # flatten the 2D input here\n",
    "        sampled_latent_z = self.reparameterize(mu,logvar)\n",
    "        return self.decoder(sampled_latent_z), mu, logvar\n",
    "    \n",
    "    def loss_function(self, input_X, output_X, mu,logvar):\n",
    "\n",
    "        reconstruction_loss = - F.binary_cross_entropy(output_X, input_X.view(-1,self.input_size), reduction = 'sum')\n",
    "        \n",
    "        KL_divergence = 0.5 * torch.sum(1+logvar-mu.pow(2)-logvar.exp())\n",
    "        \n",
    "        return - (reconstruction_loss + KL_divergence) # we want to maximize \"reconstruction_loss - KL_divergence\"\n",
    "\n",
    "\n"
   ]
  },
  {
   "cell_type": "code",
   "execution_count": 0,
   "metadata": {
    "colab": {},
    "colab_type": "code",
    "id": "Wwpeey3PbXh3"
   },
   "outputs": [],
   "source": [
    "# define device, model, optimizer, batch_size and import data\n",
    "device = torch.device(\"cuda\" if torch.cuda.is_available() else \"cpu\")\n",
    "model = VAE_Vanilla().to(device)\n",
    "optimizer = optim.Adam(model.parameters(), lr=1e-3)\n",
    "BATCH_SIZE= 32\n",
    "train_loader = torch.utils.data.DataLoader(datasets.MNIST('../data', train=True, download=True,transform=transforms.ToTensor()),batch_size=BATCH_SIZE, shuffle=True)\n",
    "test_loader = torch.utils.data.DataLoader(datasets.MNIST('../data', train=False, transform=transforms.ToTensor()),batch_size=BATCH_SIZE, shuffle=True)\n",
    "\n",
    "\n",
    "# Trainning function for each epoch, return the average trainning error\n",
    "def VAE_Vanilla_train():\n",
    "    model.train() # this is for dropout \n",
    "    train_loss = 0\n",
    "\n",
    "    for data, _ in train_loader:\n",
    "        data = data.to(device)\n",
    "        optimizer.zero_grad()\n",
    "        recon_data, mu, logvar  = model(data)\n",
    "        loss = model.loss_function(data,recon_data,mu,logvar)\n",
    "        train_loss += loss.item()\n",
    "\n",
    "        loss.backward()\n",
    "        optimizer.step()\n",
    "\n",
    "    return train_loss / len(train_loader.dataset)\n",
    "  \n",
    "\n",
    "# Test function for each epoch, return the average test error    \n",
    "def VAE_Vanilla_test():\n",
    "    model.eval() # this is for dropout removal\n",
    "    test_loss = 0\n",
    "    with torch.no_grad(): # gradient calculation is not needed\n",
    "        for data, _ in test_loader:\n",
    "            data = data.to(device)\n",
    "            recon_data, mu, logvar = model(data)\n",
    "            test_loss += model.loss_function(data,recon_data,mu,logvar)\n",
    "\n",
    "    return test_loss/ len(test_loader.dataset)"
   ]
  },
  {
   "cell_type": "code",
   "execution_count": 0,
   "metadata": {
    "colab": {},
    "colab_type": "code",
    "id": "HcMify_SbdSO"
   },
   "outputs": [],
   "source": [
    "!mkdir results"
   ]
  },
  {
   "cell_type": "code",
   "execution_count": 23,
   "metadata": {
    "colab": {
     "base_uri": "https://localhost:8080/",
     "height": 1000
    },
    "colab_type": "code",
    "id": "1dgmCQOybEK-",
    "outputId": "64e9859e-0780-45aa-beaf-80de6d93c7cf"
   },
   "outputs": [
    {
     "name": "stdout",
     "output_type": "stream",
     "text": [
      "====> Epoch: 1 Average Training loss: 139.1330\n",
      "====> Average Test set loss: 116.7939\n",
      "====> Epoch: 2 Average Training loss: 114.1602\n",
      "====> Average Test set loss: 111.0507\n",
      "====> Epoch: 3 Average Training loss: 110.4375\n",
      "====> Average Test set loss: 108.7017\n",
      "====> Epoch: 4 Average Training loss: 108.7540\n",
      "====> Average Test set loss: 107.3010\n",
      "====> Epoch: 5 Average Training loss: 107.8047\n",
      "====> Average Test set loss: 106.6419\n",
      "====> Epoch: 6 Average Training loss: 107.0847\n",
      "====> Average Test set loss: 106.1839\n",
      "====> Epoch: 7 Average Training loss: 106.6227\n",
      "====> Average Test set loss: 105.8181\n",
      "====> Epoch: 8 Average Training loss: 106.1932\n",
      "====> Average Test set loss: 105.7761\n",
      "====> Epoch: 9 Average Training loss: 105.8733\n",
      "====> Average Test set loss: 105.4282\n",
      "====> Epoch: 10 Average Training loss: 105.5985\n",
      "====> Average Test set loss: 105.1616\n",
      "====> Epoch: 11 Average Training loss: 105.3032\n",
      "====> Average Test set loss: 104.6157\n",
      "====> Epoch: 12 Average Training loss: 105.1106\n",
      "====> Average Test set loss: 104.6652\n",
      "====> Epoch: 13 Average Training loss: 104.8895\n",
      "====> Average Test set loss: 104.7738\n",
      "====> Epoch: 14 Average Training loss: 104.7370\n",
      "====> Average Test set loss: 104.4049\n",
      "====> Epoch: 15 Average Training loss: 104.5785\n",
      "====> Average Test set loss: 104.5679\n",
      "====> Epoch: 16 Average Training loss: 104.4296\n",
      "====> Average Test set loss: 104.1228\n",
      "====> Epoch: 17 Average Training loss: 104.2816\n",
      "====> Average Test set loss: 104.2645\n",
      "====> Epoch: 18 Average Training loss: 104.2028\n",
      "====> Average Test set loss: 103.9130\n",
      "====> Epoch: 19 Average Training loss: 104.0346\n",
      "====> Average Test set loss: 103.9605\n",
      "====> Epoch: 20 Average Training loss: 103.9119\n",
      "====> Average Test set loss: 103.8509\n",
      "====> Epoch: 21 Average Training loss: 103.8244\n",
      "====> Average Test set loss: 103.5190\n",
      "====> Epoch: 22 Average Training loss: 103.7649\n",
      "====> Average Test set loss: 103.3806\n",
      "====> Epoch: 23 Average Training loss: 103.6202\n",
      "====> Average Test set loss: 103.3345\n",
      "====> Epoch: 24 Average Training loss: 103.5830\n",
      "====> Average Test set loss: 103.4961\n",
      "====> Epoch: 25 Average Training loss: 103.5170\n",
      "====> Average Test set loss: 103.3804\n",
      "====> Epoch: 26 Average Training loss: 103.4100\n",
      "====> Average Test set loss: 103.5039\n",
      "====> Epoch: 27 Average Training loss: 103.3605\n",
      "====> Average Test set loss: 103.6989\n",
      "====> Epoch: 28 Average Training loss: 103.2461\n",
      "====> Average Test set loss: 103.0126\n",
      "====> Epoch: 29 Average Training loss: 103.2110\n",
      "====> Average Test set loss: 103.1903\n",
      "====> Epoch: 30 Average Training loss: 103.1448\n",
      "====> Average Test set loss: 103.2399\n",
      "====> Epoch: 31 Average Training loss: 103.1023\n",
      "====> Average Test set loss: 103.0743\n",
      "====> Epoch: 32 Average Training loss: 103.0415\n",
      "====> Average Test set loss: 102.8901\n",
      "====> Epoch: 33 Average Training loss: 102.9848\n",
      "====> Average Test set loss: 103.1117\n",
      "====> Epoch: 34 Average Training loss: 102.9366\n",
      "====> Average Test set loss: 102.9011\n",
      "====> Epoch: 35 Average Training loss: 102.8229\n",
      "====> Average Test set loss: 102.7861\n",
      "====> Epoch: 36 Average Training loss: 102.8012\n",
      "====> Average Test set loss: 102.9908\n",
      "====> Epoch: 37 Average Training loss: 102.7430\n",
      "====> Average Test set loss: 102.8945\n",
      "====> Epoch: 38 Average Training loss: 102.7099\n",
      "====> Average Test set loss: 102.8883\n",
      "====> Epoch: 39 Average Training loss: 102.6951\n",
      "====> Average Test set loss: 102.5686\n",
      "====> Epoch: 40 Average Training loss: 102.6104\n",
      "====> Average Test set loss: 102.8201\n",
      "====> Epoch: 41 Average Training loss: 102.5950\n",
      "====> Average Test set loss: 102.4987\n",
      "====> Epoch: 42 Average Training loss: 102.4932\n",
      "====> Average Test set loss: 102.6231\n",
      "====> Epoch: 43 Average Training loss: 102.4955\n",
      "====> Average Test set loss: 102.7061\n",
      "====> Epoch: 44 Average Training loss: 102.4450\n",
      "====> Average Test set loss: 102.4342\n",
      "====> Epoch: 45 Average Training loss: 102.4172\n",
      "====> Average Test set loss: 102.5133\n",
      "====> Epoch: 46 Average Training loss: 102.3795\n",
      "====> Average Test set loss: 102.3823\n",
      "====> Epoch: 47 Average Training loss: 102.3809\n",
      "====> Average Test set loss: 102.8545\n",
      "====> Epoch: 48 Average Training loss: 102.3086\n",
      "====> Average Test set loss: 102.4429\n",
      "====> Epoch: 49 Average Training loss: 102.3202\n",
      "====> Average Test set loss: 102.4126\n"
     ]
    }
   ],
   "source": [
    "for epoch in range(1, 50):\n",
    "  average_train_loss_per_epoch = VAE_Vanilla_train()\n",
    "  print('====> Epoch: {} Average Training loss: {:.4f}'.format(epoch, average_train_loss_per_epoch))\n",
    "\n",
    "  average_test_loss_per_epoch = VAE_Vanilla_test()\n",
    "  print('====> Average Test set loss: {:.4f}'.format(average_test_loss_per_epoch))\n",
    "\n",
    "  with torch.no_grad():\n",
    "    sample = torch.randn(4, 30).to(device)\n",
    "    sample = model.decoder(sample).cpu()\n",
    "    save_image(sample.view(4, 1, 28, 28),'./results/sample_' + str(epoch) + '.png')"
   ]
  },
  {
   "cell_type": "code",
   "execution_count": 25,
   "metadata": {
    "colab": {
     "base_uri": "https://localhost:8080/",
     "height": 190
    },
    "colab_type": "code",
    "id": "2xdWnxNEbyxe",
    "outputId": "490eedd3-d807-4166-c36b-ddc3c2966e7e"
   },
   "outputs": [
    {
     "name": "stdout",
     "output_type": "stream",
     "text": [
      "sample_10.png  sample_1.png   sample_29.png  sample_38.png  sample_47.png\n",
      "sample_11.png  sample_20.png  sample_2.png   sample_39.png  sample_48.png\n",
      "sample_12.png  sample_21.png  sample_30.png  sample_3.png   sample_49.png\n",
      "sample_13.png  sample_22.png  sample_31.png  sample_40.png  sample_4.png\n",
      "sample_14.png  sample_23.png  sample_32.png  sample_41.png  sample_5.png\n",
      "sample_15.png  sample_24.png  sample_33.png  sample_42.png  sample_6.png\n",
      "sample_16.png  sample_25.png  sample_34.png  sample_43.png  sample_7.png\n",
      "sample_17.png  sample_26.png  sample_35.png  sample_44.png  sample_8.png\n",
      "sample_18.png  sample_27.png  sample_36.png  sample_45.png  sample_9.png\n",
      "sample_19.png  sample_28.png  sample_37.png  sample_46.png\n"
     ]
    }
   ],
   "source": [
    "!ls results"
   ]
  },
  {
   "cell_type": "code",
   "execution_count": 30,
   "metadata": {
    "colab": {
     "base_uri": "https://localhost:8080/",
     "height": 156
    },
    "colab_type": "code",
    "id": "SB2LP66GcT0F",
    "outputId": "b39ed17c-7339-4f9a-9607-98b72cb078e5"
   },
   "outputs": [
    {
     "name": "stdout",
     "output_type": "stream",
     "text": [
      "Populating the interactive namespace from numpy and matplotlib\n"
     ]
    },
    {
     "data": {
      "image/png": "[encoded data removed]",
      "text/plain": [
       "<Figure size 432x288 with 1 Axes>"
      ]
     },
     "metadata": {
      "tags": []
     },
     "output_type": "display_data"
    }
   ],
   "source": [
    "# plot the saved image file\n",
    "\n",
    "%pylab inline\n",
    "import matplotlib.pyplot as plt\n",
    "import matplotlib.image as mpimg\n",
    "img=mpimg.imread('results/sample_45.png')\n",
    "imgplot = plt.imshow(img)\n",
    "plt.show()"
   ]
  },
  {
   "cell_type": "code",
   "execution_count": 0,
   "metadata": {
    "colab": {},
    "colab_type": "code",
    "id": "muGQm5ARcd79"
   },
   "outputs": [],
   "source": []
  }
 ],
 "metadata": {
  "accelerator": "GPU",
  "colab": {
   "name": "Vanilla VAE.ipynb",
   "provenance": [],
   "version": "0.3.2"
  },
  "kernelspec": {
   "display_name": "Python 3",
   "language": "python",
   "name": "python3"
  },
  "language_info": {
   "codemirror_mode": {
    "name": "ipython",
    "version": 3
   },
   "file_extension": ".py",
   "mimetype": "text/x-python",
   "name": "python",
   "nbconvert_exporter": "python",
   "pygments_lexer": "ipython3",
   "version": "3.6.8"
  }
 },
 "nbformat": 4,
 "nbformat_minor": 1
}
